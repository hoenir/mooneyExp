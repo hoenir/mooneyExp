{
 "cells": [
  {
   "cell_type": "markdown",
   "metadata": {},
   "source": [
    "### Helper code to match memcat images names to mooney image names"
   ]
  },
  {
   "cell_type": "code",
   "execution_count": 22,
   "metadata": {},
   "outputs": [],
   "source": [
    "import hashlib\n",
    "#from scipy.misc import imread, imresize, imshow\n",
    "import matplotlib.pyplot as plt\n",
    "import matplotlib.gridspec as gridspec\n",
    "import time\n",
    "import numpy as np\n",
    "import os\n",
    "from imageio import imread, imsave\n",
    "import pandas as pd"
   ]
  },
  {
   "cell_type": "markdown",
   "metadata": {},
   "source": [
    "### Flatten dir structure"
   ]
  },
  {
   "cell_type": "code",
   "execution_count": 6,
   "metadata": {},
   "outputs": [],
   "source": [
    "import os\n",
    "import sys\n",
    "import string\n",
    "import shutil\n",
    "\n",
    "#Generate the file paths to traverse, or a single path if a file name was given\n",
    "def getfiles(path):\n",
    "    if os.path.isdir(path):\n",
    "        for root, dirs, files in os.walk(path):\n",
    "            for name in files:\n",
    "                yield os.path.join(root, name)\n",
    "    else:\n",
    "        yield path\n",
    "\n"
   ]
  },
  {
   "cell_type": "code",
   "execution_count": 9,
   "metadata": {},
   "outputs": [],
   "source": [
    "destination = \"/home/sander/Downloads/memcats/\"\n",
    "fromdir = \"/home/sander/Downloads/MemCat\"\n",
    "for f in getfiles(fromdir):\n",
    "    filename = str.split(f, '/')[-1]\n",
    "    if os.path.isfile(destination+filename):\n",
    "        filename = f.replace(fromdir,\"\",1).replace(\"/\",\"_\")\n",
    "        print('naming conflict')\n",
    "    #os.rename(f, destination+filename)\n",
    "    shutil.copy(f, destination+filename)"
   ]
  },
  {
   "cell_type": "code",
   "execution_count": 24,
   "metadata": {},
   "outputs": [
    {
     "name": "stdout",
     "output_type": "stream",
     "text": [
      "8721\n"
     ]
    }
   ],
   "source": [
    "os.chdir(r'/home/sander/Downloads/gray')\n",
    "file_list = os.listdir()\n",
    "print(len(file_list))"
   ]
  },
  {
   "cell_type": "markdown",
   "metadata": {},
   "source": [
    "### Find duplicates based on file hash and save matching names"
   ]
  },
  {
   "cell_type": "code",
   "execution_count": 26,
   "metadata": {},
   "outputs": [],
   "source": [
    "duplicates = []\n",
    "matchlist = []\n",
    "hash_keys = dict()\n",
    "for index, filename in enumerate(file_list):  #listdir('.') = current directory\n",
    "    if os.path.isfile(filename):\n",
    "        with open(filename, 'rb') as f:\n",
    "            filehash = hashlib.md5(f.read()).hexdigest()\n",
    "        if filehash not in hash_keys: \n",
    "            hash_keys[filehash] = index\n",
    "        else:\n",
    "            duplicates.append((index, filename, hash_keys[filehash]))\n",
    "            if 'gs' in filename:\n",
    "                matchlist.append((filename, file_list[hash_keys[filehash]]))\n",
    "            else: matchlist.append((file_list[hash_keys[filehash]], filename))"
   ]
  },
  {
   "cell_type": "code",
   "execution_count": 28,
   "metadata": {},
   "outputs": [],
   "source": [
    "df = pd.DataFrame(matchlist, columns =['mooneyname', 'memcatname'])\n",
    "\n",
    "df.to_csv('matchedimgnames.csv')"
   ]
  },
  {
   "cell_type": "code",
   "execution_count": 9,
   "metadata": {},
   "outputs": [],
   "source": [
    "\n",
    "def rgb2gray(img):\n",
    "    \"\"\" Given an RGB image return the gray scale image.\n",
    "    Based on http://en.wikipedia.org/wiki/Grayscale#Converting_color_to_grayscale\n",
    "    img = 0.299 R + 0.587 G + 0.114 B\n",
    "    \"\"\"\n",
    "    print('Converting RGB image to gray scale.')\n",
    "    return np.uint8(np.dot(img[...,:3], [0.299, 0.587, 0.114]))\n",
    "\n"
   ]
  },
  {
   "cell_type": "code",
   "execution_count": null,
   "metadata": {},
   "outputs": [],
   "source": [
    "\n",
    "\n",
    "for img in file_list:\n",
    "    im = imread(img)\n",
    "    im = rgb2gray(im)\n",
    "    filename = os.path.join('gray', img)\n",
    "    imsave(filename, im.astype('float'))\n",
    "\n"
   ]
  }
 ],
 "metadata": {
  "kernelspec": {
   "display_name": "Python 3",
   "language": "python",
   "name": "python3"
  },
  "language_info": {
   "codemirror_mode": {
    "name": "ipython",
    "version": 3
   },
   "file_extension": ".py",
   "mimetype": "text/x-python",
   "name": "python",
   "nbconvert_exporter": "python",
   "pygments_lexer": "ipython3",
   "version": "3.7.3"
  }
 },
 "nbformat": 4,
 "nbformat_minor": 4
}
