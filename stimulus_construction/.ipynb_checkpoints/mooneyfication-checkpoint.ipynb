{
 "cells": [
  {
   "cell_type": "code",
   "execution_count": 2,
   "metadata": {},
   "outputs": [],
   "source": [
    "import crmooney as tt\n",
    "import glob, os\n",
    "import utils_image as utils\n",
    "import numpy as np"
   ]
  },
  {
   "cell_type": "code",
   "execution_count": 7,
   "metadata": {},
   "outputs": [],
   "source": [
    "# rename files to be consistent\n",
    "jpgs = glob.glob(os.path.join('stims', \"*.jpg\")) \n",
    "gifs = glob.glob(os.path.join('stims', \"*.gif\")) \n",
    "\n",
    "for i,v in enumerate(jpgs):\n",
    "    os.rename(v, 'stims/' + \"{0:0=3d}\".format(i+1) + 'gs' + \".jpg\")\n",
    "    \n",
    "for i,v in enumerate(gifs):\n",
    "    os.rename(v, 'stims/' + \"{0:0=3d}\".format(i+1) + 'gs' + \".gif\")\n"
   ]
  },
  {
   "cell_type": "code",
   "execution_count": 62,
   "metadata": {},
   "outputs": [
    {
     "name": "stdout",
     "output_type": "stream",
     "text": [
      "91\n"
     ]
    }
   ],
   "source": [
    "#convert gifs to jpg\n",
    "\n",
    "from PIL import Image \n",
    "gifs = glob.glob(os.path.join('stims', \"*.gif\"))\n",
    "print(len(gifs))\n",
    "\n",
    "for i,v in enumerate(gifs):\n",
    "    Image.open(v).convert('RGB').save(\"{0:0=3d}\".format(100+i+1) + 'gs' + \".jpg\")"
   ]
  },
  {
   "cell_type": "code",
   "execution_count": null,
   "metadata": {},
   "outputs": [],
   "source": [
    "reload(utils)\n",
    "\n",
    "folders = glob.glob(\"101_ObjectCategories/*\")\n",
    "\n",
    "for folder in folders:\n",
    "    tt.crmooney_frompath(folder, mooneypath=folder, smooth_sigma=2, threshold_method='global_otsu')"
   ]
  },
  {
   "cell_type": "code",
   "execution_count": null,
   "metadata": {},
   "outputs": [],
   "source": [
    "reload(tt)\n",
    "API_KEY = 'f0469ee21918df5d9adf3af366068430'\n",
    "API_SECRET = '6ee6ffc3659eed3'\n",
    "\n",
    "words = ['screw','seed','sheep','shelf','ship','shirt','shoe','skin','skirt','snake','sock','spade','sponge','spoon']\n",
    "#spring,square,stamp,star,station,stem,stick,stocking,store,street,sun,table,tail,thread,throat,thumb,\n",
    "#ticket,toe,tongue,tooth,town,train,tray,tree,trousers,umbrella,wall,watch,wheel,whip,whistle,window,wing,wire,worm]\n",
    "\n",
    "\n",
    "#tt.crmooney_fromdb(search_words=words, api_key=API_KEY, api_secret=API_SECRET, search_tags=['close-up'])\n",
    "tt.crmooney_frompath('sel',smooth_sigma=4, threshold_method='global_otsu')"
   ]
  },
  {
   "cell_type": "code",
   "execution_count": 17,
   "metadata": {},
   "outputs": [
    {
     "name": "stdout",
     "output_type": "stream",
     "text": [
      "144\n"
     ]
    }
   ],
   "source": [
    "# rename files to be consistent\n",
    "imgs = glob.glob(os.path.join('proper', \"*.jpg\")) \n",
    "\n",
    "\n",
    "print len(imgs)\n",
    "\n",
    "couples = zip(sorted(imgs)[1::2],sorted(imgs)[::2])\n",
    "#for i in couples:\n",
    "#    print i, '\\n'\n",
    "\n",
    "for i, couple in enumerate(couples):\n",
    "    os.rename(couple[0], os.path.join(\"tt\", \"{0:0=4d}\".format(i+1) + 'tt' + \".jpg\"))\n",
    "    os.rename(couple[1], os.path.join(\"gs\", \"{0:0=4d}\".format(i+1) + 'gs' + \".jpg\"))"
   ]
  },
  {
   "cell_type": "code",
   "execution_count": 28,
   "metadata": {},
   "outputs": [],
   "source": [
    "folders = glob.glob(\"extraimgs/*\")\n",
    "\n",
    "couples=[]\n",
    "\n",
    "for f in folders:\n",
    "    imgs = glob.glob(os.path.join(f, \"*.jpg\")) \n",
    "    couples = couples + zip(sorted(imgs)[1::2],sorted(imgs)[::2])\n",
    "    \n",
    "# check corresponding\n",
    "for i in couples:\n",
    "    if (int(''.join(filter(str.isdigit, i[0]))) != int(''.join(filter(str.isdigit, i[1])))):\n",
    "        print i"
   ]
  },
  {
   "cell_type": "code",
   "execution_count": 30,
   "metadata": {},
   "outputs": [],
   "source": [
    "import shutil\n",
    "\n",
    "for i, couple in enumerate(couples):\n",
    "    shutil.copy(couple[0], os.path.join(\"tt\", \"{0:0=4d}\".format(72 + i+1) + 'tt' + \".jpg\"))\n",
    "    shutil.copy(couple[1], os.path.join(\"gs\", \"{0:0=4d}\".format(72 + i+1) + 'gs' + \".jpg\"))"
   ]
  },
  {
   "cell_type": "code",
   "execution_count": 37,
   "metadata": {},
   "outputs": [
    {
     "data": {
      "text/plain": [
       "452"
      ]
     },
     "execution_count": 37,
     "metadata": {},
     "output_type": "execute_result"
    }
   ],
   "source": [
    "import random\n",
    "\n",
    "tt = glob.glob(os.path.join('tt', \"*.jpg\")) \n",
    "gs = glob.glob(os.path.join('gs', \"*.jpg\")) \n",
    "\n",
    "if len(tt) == len(gs): \n",
    "    couples = zip(sorted(tt),sorted(gs))\n",
    "else: print \"images don't match!\"\n",
    "\n",
    "# check corresponding\n",
    "for i in couples:\n",
    "    if (int(''.join(filter(str.isdigit, i[0]))) != int(''.join(filter(str.isdigit, i[1])))):\n",
    "        print i\n",
    "len(couples)"
   ]
  },
  {
   "cell_type": "code",
   "execution_count": 38,
   "metadata": {},
   "outputs": [],
   "source": [
    "for i, couple in enumerate(couples):\n",
    "   \n",
    "    os.rename(couple[0], os.path.join(\"tt\", \"{0:0=4d}\".format(i+1) + 'tt' + \".jpg\"))\n",
    "    os.rename(couple[1], os.path.join(\"gs\", \"{0:0=4d}\".format(i+1) + 'gs' + \".jpg\"))\n",
    "    \n",
    "\n"
   ]
  }
 ],
 "metadata": {
  "kernelspec": {
   "display_name": "Python 2",
   "language": "python",
   "name": "python2"
  },
  "language_info": {
   "codemirror_mode": {
    "name": "ipython",
    "version": 2
   },
   "file_extension": ".py",
   "mimetype": "text/x-python",
   "name": "python",
   "nbconvert_exporter": "python",
   "pygments_lexer": "ipython2",
   "version": "2.7.15rc1"
  }
 },
 "nbformat": 4,
 "nbformat_minor": 2
}
