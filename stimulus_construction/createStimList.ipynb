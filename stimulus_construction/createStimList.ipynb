{
 "cells": [
  {
   "cell_type": "code",
   "execution_count": 2,
   "metadata": {},
   "outputs": [
    {
     "data": {
      "text/plain": [
       "'/home/sander/Dropbox/mooneyGain/stimulus_construction'"
      ]
     },
     "execution_count": 2,
     "metadata": {},
     "output_type": "execute_result"
    }
   ],
   "source": [
    "import os, glob, json, random, shutil\n",
    "os.getcwd()"
   ]
  },
  {
   "cell_type": "code",
   "execution_count": 10,
   "metadata": {},
   "outputs": [
    {
     "name": "stdout",
     "output_type": "stream",
     "text": [
      "375\n",
      "True\n"
     ]
    },
    {
     "data": {
      "text/plain": [
       "755"
      ]
     },
     "execution_count": 10,
     "metadata": {},
     "output_type": "execute_result"
    }
   ],
   "source": [
    "\n",
    "\n",
    "tt = glob.glob(os.path.join('candidateMooneys', \"*a.jpg\")) \n",
    "gs = glob.glob(os.path.join('candidateMooneys', \"*g.jpg\"))\n",
    "\n",
    "couples = list(zip(sorted(tt),sorted(gs)))\n",
    "print(len(couples))\n",
    "\n",
    "\n",
    "for i, couple in enumerate(couples):\n",
    "    #print(couple)\n",
    "    tail = os.path.split(couple[0])[1]\n",
    "    tail2 = os.path.split(couple[0])[1]\n",
    "    \n",
    "    imgid = \"{0:0=3d}\".format(1000+i+1)\n",
    "    \n",
    "    if tail.split('_')[0] == tail2.split('_')[0]:\n",
    "        shutil.move(couple[0], os.path.join('candidateMooneys', 'tt', imgid+'tt.jpg'))\n",
    "        shutil.move(couple[1], os.path.join('candidateMooneys', 'gs', imgid+'gs.jpg'))\n",
    "\n",
    "tt = glob.glob(os.path.join('candidateMooneys', 'tt', \"*.jpg\")) \n",
    "gs = glob.glob(os.path.join('candidateMooneys', 'gs', \"*.jpg\"))    \n",
    "print(len(tt) == len(gs))\n",
    "len(tt)"
   ]
  },
  {
   "cell_type": "code",
   "execution_count": 8,
   "metadata": {},
   "outputs": [
    {
     "name": "stdout",
     "output_type": "stream",
     "text": [
      "755\n",
      "True\n"
     ]
    },
    {
     "data": {
      "text/plain": [
       "532"
      ]
     },
     "execution_count": 8,
     "metadata": {},
     "output_type": "execute_result"
    }
   ],
   "source": [
    "# rename files to be consistent\n",
    "tt = glob.glob(os.path.join('moon', 'tt', \"*.jpg\")) \n",
    "gs = glob.glob(os.path.join('moon', 'gs', \"*.jpg\")) \n",
    "\n",
    "if len(tt) == len(gs): \n",
    "    couples = list(zip(sorted(tt),sorted(gs)))\n",
    "else: print(\"images don't match!\")\n",
    "\n",
    "random.shuffle(couples)\n",
    "print(len(couples))\n",
    "\n",
    "for i, couple in enumerate(couples):\n",
    "    if (int(''.join(filter(str.isdigit, couple[0]))) == int(''.join(filter(str.isdigit, couple[1])))):\n",
    "        os.rename(couple[0], 'moon/tt' + \"/{0:0=3d}\".format(i+1) + 'tt' + \".jpg\")\n",
    "        os.rename(couple[1], 'moon/gs' + \"/{0:0=3d}\".format(i+1) + 'gs' + \".jpg\")\n",
    "    else: print(couple, \"images don't match\")\n",
    "\n",
    "tt = glob.glob(os.path.join('moon', 'tt', \"*.jpg\")) \n",
    "gs = glob.glob(os.path.join('moon', 'gs', \"*.jpg\")) \n",
    "print(len(tt) == len(gs))\n",
    "len(tt)"
   ]
  },
  {
   "cell_type": "code",
   "execution_count": 9,
   "metadata": {},
   "outputs": [
    {
     "name": "stdout",
     "output_type": "stream",
     "text": [
      "True\n"
     ]
    },
    {
     "data": {
      "text/plain": [
       "532"
      ]
     },
     "execution_count": 9,
     "metadata": {},
     "output_type": "execute_result"
    }
   ],
   "source": [
    "tt = glob.glob(os.path.join('moon', 'tt', \"*.jpg\")) \n",
    "gs = glob.glob(os.path.join('moon', 'gs', \"*.jpg\")) \n",
    "print(len(tt) == len(gs))\n",
    "len(tt)"
   ]
  },
  {
   "cell_type": "code",
   "execution_count": 7,
   "metadata": {},
   "outputs": [
    {
     "name": "stdout",
     "output_type": "stream",
     "text": [
      "755\n"
     ]
    }
   ],
   "source": [
    "#generate json list of filenames\n",
    "tt = glob.glob(os.path.join('..', 'img', 'tt', \"*.jpg\")) \n",
    "gs = glob.glob(os.path.join('..','img', 'gs', \"*.jpg\")) \n",
    "STIMS = []\n",
    "if len(tt) == len(gs): \n",
    "    \n",
    "    couples = list(zip(sorted(tt),sorted(gs)))\n",
    "    \n",
    "    print(len(couples))\n",
    "    for couple in couples:\n",
    "        if (int(''.join(filter(str.isdigit, couple[0]))) == int(''.join(filter(str.isdigit, couple[1])))):\n",
    "            STIMS.append({'mooney': couple[0], 'solution': couple[1]})\n",
    "        else: print(couple, \": images don't correspond\")\n",
    "        \n",
    "    with open('stimset.json', 'w') as outfile:\n",
    "        json.dump(STIMS, outfile)\n",
    "        \n",
    "else: print(\"images don't match!\")\n",
    "    "
   ]
  },
  {
   "cell_type": "code",
   "execution_count": 12,
   "metadata": {},
   "outputs": [],
   "source": [
    "import pandas as pd\n",
    "\n",
    "df = pd.DataFrame(STIMS)\n",
    "df.to_csv('stimsAnswerKey.csv')"
   ]
  }
 ],
 "metadata": {
  "kernelspec": {
   "display_name": "Python 2",
   "language": "python",
   "name": "python2"
  },
  "language_info": {
   "codemirror_mode": {
    "name": "ipython",
    "version": 3
   },
   "file_extension": ".py",
   "mimetype": "text/x-python",
   "name": "python",
   "nbconvert_exporter": "python",
   "pygments_lexer": "ipython3",
   "version": "3.7.3"
  }
 },
 "nbformat": 4,
 "nbformat_minor": 4
}
