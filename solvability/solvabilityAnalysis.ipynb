{
 "cells": [
  {
   "cell_type": "code",
   "execution_count": null,
   "metadata": {},
   "outputs": [],
   "source": []
  },
  {
   "cell_type": "code",
   "execution_count": 3,
   "metadata": {},
   "outputs": [
    {
     "name": "stdout",
     "output_type": "stream",
     "text": [
      "Matplotlib Version: 3.2.1\n",
      "NumPy Version: 1.18.4\n",
      "Pandas Version: 1.0.3\n",
      "Python Version: 3.8.2 (default, Apr 27 2020, 15:53:34) \n",
      "[GCC 9.3.0]\n",
      "Ran on 2020-07-16T20:01:14.518573\n"
     ]
    }
   ],
   "source": [
    "import glob, os #to work with paths\n",
    "import numpy as np\n",
    "import matplotlib as mpl\n",
    "import matplotlib.pyplot as plt # roughly ~base R plotting functionality\n",
    "import pandas as pd #roughly ~base R & tidyr functionality \n",
    "import seaborn as sns #roughly ~ggplot2 functionality\n",
    "import scipy.stats  as stats\n",
    "import statsmodels.api as sm\n",
    "import statsmodels.formula.api as smf\n",
    "import statsmodels.stats as smstats\n",
    "\n",
    "from fuzzywuzzy import fuzz\n",
    "import warnings\n",
    "warnings.filterwarnings('ignore')\n",
    "\n",
    "#to make the plots appear inline, and saved in notebook:\n",
    "%matplotlib inline\n",
    "sns.set_context(\"talk\") # seaborn function to make plots according to purpose (talk, paper, poster, notebook)\n",
    "\n",
    "# We'll show people what version we use\n",
    "import sys\n",
    "print('Matplotlib Version: ' + mpl.__version__)\n",
    "print('NumPy Version: ' + np.version.full_version)\n",
    "print('Pandas Version:', pd.__version__)\n",
    "print('Python Version: ' + sys.version)\n",
    "\n",
    "import datetime\n",
    "now  = datetime.datetime.now().isoformat()\n",
    "print('Ran on ' + now)"
   ]
  },
  {
   "cell_type": "code",
   "execution_count": 27,
   "metadata": {},
   "outputs": [
    {
     "name": "stdout",
     "output_type": "stream",
     "text": [
      "5601ab2ea66d100012d5c38a.csv  5df6b530c0b81f49ab5e86fd.csv\n",
      "57587643e8feea0006ef86ae.csv  5e0fb56452f9e6000e679983.csv\n",
      "577952778b3e2300016d6acf.csv  5e14ef83c12a36b08f3a1162.csv\n",
      "57bdba0770808a00012d9810.csv  5e187d0c12135b000c490149.csv\n",
      "585cd133d22a5800014c4ae0.csv  5e20cfd50020333e55f37e57.csv\n",
      "58d284e4bfaa440001d1f09b.csv  5e355ebb922af3508c1df891.csv\n",
      "591c5b73c3d4f6000105719b.csv  5e396942bf69e11731e9bfc7.csv\n",
      "59c3cfd7754a19000111ca78.csv  5e39e1774531881fce6f353a.csv\n",
      "59d68c3fe776fd00015ec519.csv  5e42a6f012145b000abd2b14.csv\n",
      "5a4a8802817d1800018d2549.csv  5e46d130954b011968fcc862.csv\n",
      "5a97ed1d1eda410001364e94.csv  5e4feb8037713502e9ed364b.csv\n",
      "5ad543b46e74be00014e63ed.csv  5e50621043a1fb0b5b56b4b2.csv\n",
      "5b1d61f38ee548000112a47a.csv  5e56590389b924000c184113.csv\n",
      "5b371acb06f9f90001fb5bdb.csv  5e7fb4743c00ce69510024fb.csv\n",
      "5b6dbe6d5729b200016a542d.csv  5e85920945c5ca17c7fcc9a4.csv\n",
      "5b6f0cfd5035e100019cc46e.csv  5e879ef6785373412156181e.csv\n",
      "5b8ed93eb789f0000174011c.csv  5e8b85e242328d056a6fb6e2.csv\n",
      "5b992c8728eabf0001aa0723.csv  5e8c80b37094a200088a3409.csv\n",
      "5ba123b5a9e7be000135e989.csv  5e908ae1e32229397d42c064.csv\n",
      "5bd888d75e184c000165e254.csv  5e91a3eee077ca00091ed993.csv\n",
      "5c052d23f018070001f47e05.csv  5ea03873727d0604aa31a2e9.csv\n",
      "5c129cc7ba99dc0001f0b628.csv  5ea057282b5bc70009af9638.csv\n",
      "5c5f5235034e280001645d73.csv  5ea0aecf05b0ed0a491eed7b.csv\n",
      "5c6563e20d80fd0001425671.csv  5ea9880104e52208f9b0fef3.csv\n",
      "5c6aecbad0fb370001731cac.csv  5ea9bba3e3953d0ff656c198.csv\n",
      "5c7509f0cd40bd0018cb5e07.csv  5eaaba7e30d6b901782c0ec0.csv\n",
      "5c82dd078a3a800001c83346.csv  5eb5658c4b2eb1083be0e40f.csv\n",
      "5c90febc5b78b30016d6a904.csv  5ec2c4ba2a43ea0cb3bca8e1.csv\n",
      "5c95017e6357fb0012ef46c4.csv  5ec6b2c980f8460c065873f6.csv\n",
      "5cb6c4b115f5d200176023c4.csv  5ec83101d314a02f63c69ee9.csv\n",
      "5cbf223b47becc0013c2e355.csv  5ecc130768f66a0e46f06be3.csv\n",
      "5ccbae62d987a1001258d536.csv  5eccd04687671e0133893894.csv\n",
      "5cd406f0a97efc000147d080.csv  5ece8893c927e425e458b9ea.csv\n",
      "5cf8e2cc32f1ec001c769831.csv  5ecf68de4145c639871d90d6.csv\n",
      "5d249816459c980018705d3e.csv  5ee0ea4b6f43d80a4e57435d.csv\n",
      "5d45bc6dde2d3a00167079db.csv  5ee90323395da52573de828e.csv\n",
      "5d52a800c42ad6001a1f6482.csv  5eec916127e0dd02968961a5.csv\n",
      "5d582db867d37200015a6fd6.csv  5ef3c0f82de83f13db8f362b.csv\n",
      "5d5c250a0274020016e2333a.csv  5ef4a3382f85d70810d537cf.csv\n",
      "5d7c057d521a610019fac553.csv  5ef5ea1bbfe33b0413af1b8e.csv\n",
      "5d8a79dfe173c6001a5dfcb8.csv  5ef605872e4e7428e3b788d2.csv\n",
      "5d8ca28865c7dc001ab7994a.csv  5ef6297e9bcd8f0d02a8f2e6.csv\n",
      "5d9354932f8730001a5f8fca.csv  5ef7bfe916eb4f4f5feded46.csv\n",
      "5da5d4ea6f5d4400138def3f.csv  5efbbb014e1b64162b574423.csv\n",
      "5dbccfe2f02c32262fb46cff.csv  5efc6bead26fd3000c5b737d.csv\n",
      "5dc44b73900e3e31ef1e3294.csv  5efcbd999aad650a6e316a7f.csv\n",
      "5dd7fa59f604bc000bdb5093.csv  5efdeec0f4c0bf0959410002.csv\n",
      "5ddb0012270f44a553f0d024.csv  5f060ec72b566a12a688ef7d.csv\n",
      "5deb1865986140241391d84a.csv\n"
     ]
    }
   ],
   "source": [
    "!ls data #we can use shell commands to see where the data is (ls=dir on windows)"
   ]
  },
  {
   "cell_type": "code",
   "execution_count": 4,
   "metadata": {},
   "outputs": [
    {
     "name": "stdout",
     "output_type": "stream",
     "text": [
      "140 files\n",
      "skipped\n",
      "skipped\n",
      "skipped\n",
      "skipped\n",
      "skipped\n",
      "skipped\n",
      "skipped\n",
      "skipped\n",
      "skipped\n",
      "skipped\n",
      "skipped\n",
      "Variables:\n",
      " Index(['rt', 'stimulus', 'key_press', 'test_part', 'trial_type', 'trial_index',\n",
      "       'time_elapsed', 'internal_node_id', 'totalTime', 'subject',\n",
      "       'experiment_name', 'button_pressed', 'success', 'ahacond',\n",
      "       'currentStim', 'solvability', 'pressed', 'affect', 'rtfinal',\n",
      "       'ProlificId'],\n",
      "      dtype='object')\n",
      "variables:\n",
      " rt                  float64\n",
      "stimulus             object\n",
      "key_press           float64\n",
      "test_part            object\n",
      "trial_type           object\n",
      "trial_index           int64\n",
      "time_elapsed          int64\n",
      "internal_node_id     object\n",
      "totalTime             int64\n",
      "subject               int64\n",
      "experiment_name      object\n",
      "button_pressed      float64\n",
      "success              object\n",
      "ahacond              object\n",
      "currentStim          object\n",
      "solvability         float64\n",
      "pressed             float64\n",
      "affect              float64\n",
      "rtfinal             float64\n",
      "ProlificId           object\n",
      "dtype: object\n",
      "nb of participants: 129\n",
      "15480\n"
     ]
    },
    {
     "data": {
      "text/html": [
       "<div>\n",
       "<style scoped>\n",
       "    .dataframe tbody tr th:only-of-type {\n",
       "        vertical-align: middle;\n",
       "    }\n",
       "\n",
       "    .dataframe tbody tr th {\n",
       "        vertical-align: top;\n",
       "    }\n",
       "\n",
       "    .dataframe thead th {\n",
       "        text-align: right;\n",
       "    }\n",
       "</style>\n",
       "<table border=\"1\" class=\"dataframe\">\n",
       "  <thead>\n",
       "    <tr style=\"text-align: right;\">\n",
       "      <th></th>\n",
       "      <th>rt</th>\n",
       "      <th>stimulus</th>\n",
       "      <th>key_press</th>\n",
       "      <th>test_part</th>\n",
       "      <th>trial_type</th>\n",
       "      <th>trial_index</th>\n",
       "      <th>time_elapsed</th>\n",
       "      <th>internal_node_id</th>\n",
       "      <th>totalTime</th>\n",
       "      <th>subject</th>\n",
       "      <th>experiment_name</th>\n",
       "      <th>button_pressed</th>\n",
       "      <th>success</th>\n",
       "      <th>ahacond</th>\n",
       "      <th>currentStim</th>\n",
       "      <th>solvability</th>\n",
       "      <th>pressed</th>\n",
       "      <th>affect</th>\n",
       "      <th>rtfinal</th>\n",
       "      <th>ProlificId</th>\n",
       "    </tr>\n",
       "  </thead>\n",
       "  <tbody>\n",
       "    <tr>\n",
       "      <th>8</th>\n",
       "      <td>NaN</td>\n",
       "      <td>../solvability/picts/pict18.png</td>\n",
       "      <td>NaN</td>\n",
       "      <td>target</td>\n",
       "      <td>image-keyboard-response</td>\n",
       "      <td>49</td>\n",
       "      <td>164136</td>\n",
       "      <td>0.0-7.0-7.0</td>\n",
       "      <td>753236</td>\n",
       "      <td>1</td>\n",
       "      <td>solvability</td>\n",
       "      <td>NaN</td>\n",
       "      <td>NaN</td>\n",
       "      <td>LAHA</td>\n",
       "      <td>../img/tt/1279tt.jpg</td>\n",
       "      <td>NaN</td>\n",
       "      <td>0.0</td>\n",
       "      <td>NaN</td>\n",
       "      <td>NaN</td>\n",
       "      <td>5a947fb0f05361000171b5a3</td>\n",
       "    </tr>\n",
       "    <tr>\n",
       "      <th>9</th>\n",
       "      <td>857.785</td>\n",
       "      <td>&lt;p&gt;Do you think this character expresses somet...</td>\n",
       "      <td>37.0</td>\n",
       "      <td>affect</td>\n",
       "      <td>html-keyboard-response</td>\n",
       "      <td>50</td>\n",
       "      <td>164995</td>\n",
       "      <td>0.0-7.0-8.0</td>\n",
       "      <td>753236</td>\n",
       "      <td>1</td>\n",
       "      <td>solvability</td>\n",
       "      <td>NaN</td>\n",
       "      <td>NaN</td>\n",
       "      <td>LAHA</td>\n",
       "      <td>../img/tt/1279tt.jpg</td>\n",
       "      <td>NaN</td>\n",
       "      <td>NaN</td>\n",
       "      <td>0.0</td>\n",
       "      <td>1357.785</td>\n",
       "      <td>5a947fb0f05361000171b5a3</td>\n",
       "    </tr>\n",
       "    <tr>\n",
       "      <th>10</th>\n",
       "      <td>NaN</td>\n",
       "      <td>../solvability/picts/pict61.png</td>\n",
       "      <td>NaN</td>\n",
       "      <td>target</td>\n",
       "      <td>image-keyboard-response</td>\n",
       "      <td>58</td>\n",
       "      <td>173888</td>\n",
       "      <td>0.0-7.0-7.1</td>\n",
       "      <td>753236</td>\n",
       "      <td>1</td>\n",
       "      <td>solvability</td>\n",
       "      <td>NaN</td>\n",
       "      <td>NaN</td>\n",
       "      <td>LAHA</td>\n",
       "      <td>../img/tt/1116tt.jpg</td>\n",
       "      <td>NaN</td>\n",
       "      <td>0.0</td>\n",
       "      <td>NaN</td>\n",
       "      <td>NaN</td>\n",
       "      <td>5a947fb0f05361000171b5a3</td>\n",
       "    </tr>\n",
       "    <tr>\n",
       "      <th>11</th>\n",
       "      <td>1152.205</td>\n",
       "      <td>&lt;p&gt;Do you think this character expresses somet...</td>\n",
       "      <td>39.0</td>\n",
       "      <td>affect</td>\n",
       "      <td>html-keyboard-response</td>\n",
       "      <td>59</td>\n",
       "      <td>175041</td>\n",
       "      <td>0.0-7.0-8.1</td>\n",
       "      <td>753236</td>\n",
       "      <td>1</td>\n",
       "      <td>solvability</td>\n",
       "      <td>NaN</td>\n",
       "      <td>NaN</td>\n",
       "      <td>LAHA</td>\n",
       "      <td>../img/tt/1116tt.jpg</td>\n",
       "      <td>NaN</td>\n",
       "      <td>NaN</td>\n",
       "      <td>1.0</td>\n",
       "      <td>1652.205</td>\n",
       "      <td>5a947fb0f05361000171b5a3</td>\n",
       "    </tr>\n",
       "    <tr>\n",
       "      <th>12</th>\n",
       "      <td>NaN</td>\n",
       "      <td>../solvability/picts/pict50.png</td>\n",
       "      <td>NaN</td>\n",
       "      <td>target</td>\n",
       "      <td>image-keyboard-response</td>\n",
       "      <td>67</td>\n",
       "      <td>184141</td>\n",
       "      <td>0.0-7.0-7.2</td>\n",
       "      <td>753236</td>\n",
       "      <td>1</td>\n",
       "      <td>solvability</td>\n",
       "      <td>NaN</td>\n",
       "      <td>NaN</td>\n",
       "      <td>LAHA</td>\n",
       "      <td>../img/tt/1366tt.jpg</td>\n",
       "      <td>NaN</td>\n",
       "      <td>0.0</td>\n",
       "      <td>NaN</td>\n",
       "      <td>NaN</td>\n",
       "      <td>5a947fb0f05361000171b5a3</td>\n",
       "    </tr>\n",
       "  </tbody>\n",
       "</table>\n",
       "</div>"
      ],
      "text/plain": [
       "          rt                                           stimulus  key_press  \\\n",
       "8        NaN                    ../solvability/picts/pict18.png        NaN   \n",
       "9    857.785  <p>Do you think this character expresses somet...       37.0   \n",
       "10       NaN                    ../solvability/picts/pict61.png        NaN   \n",
       "11  1152.205  <p>Do you think this character expresses somet...       39.0   \n",
       "12       NaN                    ../solvability/picts/pict50.png        NaN   \n",
       "\n",
       "   test_part               trial_type  trial_index  time_elapsed  \\\n",
       "8     target  image-keyboard-response           49        164136   \n",
       "9     affect   html-keyboard-response           50        164995   \n",
       "10    target  image-keyboard-response           58        173888   \n",
       "11    affect   html-keyboard-response           59        175041   \n",
       "12    target  image-keyboard-response           67        184141   \n",
       "\n",
       "   internal_node_id  totalTime  subject experiment_name  button_pressed  \\\n",
       "8       0.0-7.0-7.0     753236        1     solvability             NaN   \n",
       "9       0.0-7.0-8.0     753236        1     solvability             NaN   \n",
       "10      0.0-7.0-7.1     753236        1     solvability             NaN   \n",
       "11      0.0-7.0-8.1     753236        1     solvability             NaN   \n",
       "12      0.0-7.0-7.2     753236        1     solvability             NaN   \n",
       "\n",
       "   success ahacond           currentStim  solvability  pressed  affect  \\\n",
       "8      NaN    LAHA  ../img/tt/1279tt.jpg          NaN      0.0     NaN   \n",
       "9      NaN    LAHA  ../img/tt/1279tt.jpg          NaN      NaN     0.0   \n",
       "10     NaN    LAHA  ../img/tt/1116tt.jpg          NaN      0.0     NaN   \n",
       "11     NaN    LAHA  ../img/tt/1116tt.jpg          NaN      NaN     1.0   \n",
       "12     NaN    LAHA  ../img/tt/1366tt.jpg          NaN      0.0     NaN   \n",
       "\n",
       "     rtfinal                ProlificId  \n",
       "8        NaN  5a947fb0f05361000171b5a3  \n",
       "9   1357.785  5a947fb0f05361000171b5a3  \n",
       "10       NaN  5a947fb0f05361000171b5a3  \n",
       "11  1652.205  5a947fb0f05361000171b5a3  \n",
       "12       NaN  5a947fb0f05361000171b5a3  "
      ]
     },
     "execution_count": 4,
     "metadata": {},
     "output_type": "execute_result"
    }
   ],
   "source": [
    "df = pd.DataFrame()\n",
    "solvdf = pd.DataFrame()\n",
    "\n",
    "all_files = glob.glob(os.path.join('data', \"*.csv\"))# get list of individual data files\n",
    "\n",
    "\n",
    "print(len(all_files), 'files')\n",
    "\n",
    "for i, f in enumerate(all_files):\n",
    "    #print(f)\n",
    "    thisdf = pd.read_csv(f)\n",
    "    if (int(thisdf[thisdf.test_part.isin(['chineseprior'])].button_pressed.values[0]) == 0):\n",
    "        print('skipped')\n",
    "        continue\n",
    "    \n",
    "    thisdf['ProlificId'] = thisdf.subject\n",
    "    thisdf.subject = i+1\n",
    "    \n",
    "    thissolvdf = thisdf[thisdf.test_part.isin(['solvability'])]\n",
    "    thisdf = thisdf[thisdf.test_part.isin(['affect', 'target'])]\n",
    "    #print(len(thisdf))\n",
    "    #thisdf = preprocess(thisdf)\n",
    "    df = pd.concat([df,thisdf], ignore_index=True)\n",
    "    solvdf = pd.concat([solvdf,thissolvdf], ignore_index=True)\n",
    "   \n",
    "# remove practice\n",
    "df = df[df.ahacond!='practice']\n",
    "solvdf = solvdf[solvdf.ahacond!='practice']\n",
    "\n",
    "print('Variables:\\n', df.columns)\n",
    "print('variables:\\n', df.dtypes)\n",
    "print('nb of participants:', len(df['subject'].unique()))\n",
    "print(len(df))\n",
    "\n",
    "df.to_csv('df.csv')\n",
    "df.head()"
   ]
  },
  {
   "cell_type": "markdown",
   "metadata": {},
   "source": [
    "# Does solvability vary with condition?"
   ]
  },
  {
   "cell_type": "code",
   "execution_count": 5,
   "metadata": {},
   "outputs": [
    {
     "data": {
      "image/png": "[encoded data removed]",
      "text/plain": [
       "<Figure size 360x360 with 1 Axes>"
      ]
     },
     "metadata": {
      "needs_background": "light"
     },
     "output_type": "display_data"
    }
   ],
   "source": [
    "sns.catplot(x=\"ahacond\", y=\"solvability\", kind=\"bar\",units=\"subject\", data=solvdf);\n"
   ]
  },
  {
   "cell_type": "code",
   "execution_count": 184,
   "metadata": {},
   "outputs": [
    {
     "name": "stdout",
     "output_type": "stream",
     "text": [
      "                            OLS Regression Results                            \n",
      "==============================================================================\n",
      "Dep. Variable:            solvability   R-squared:                       0.039\n",
      "Model:                            OLS   Adj. R-squared:                  0.038\n",
      "Method:                 Least Squares   F-statistic:                     155.0\n",
      "Date:                Fri, 10 Jul 2020   Prob (F-statistic):           9.50e-67\n",
      "Time:                        18:25:48   Log-Likelihood:                -5337.2\n",
      "No. Observations:                7740   AIC:                         1.068e+04\n",
      "Df Residuals:                    7737   BIC:                         1.070e+04\n",
      "Df Model:                           2                                         \n",
      "Covariance Type:            nonrobust                                         \n",
      "===================================================================================\n",
      "                      coef    std err          t      P>|t|      [0.025      0.975]\n",
      "-----------------------------------------------------------------------------------\n",
      "Intercept           0.5043      0.009     53.107      0.000       0.486       0.523\n",
      "ahacond[T.LAHA]    -0.0566      0.013     -4.214      0.000      -0.083      -0.030\n",
      "ahacond[T.NAHA]    -0.2271      0.013    -16.914      0.000      -0.253      -0.201\n",
      "==============================================================================\n",
      "Omnibus:                    32890.659   Durbin-Watson:                   1.867\n",
      "Prob(Omnibus):                  0.000   Jarque-Bera (JB):             1108.885\n",
      "Skew:                           0.336   Prob(JB):                    1.62e-241\n",
      "Kurtosis:                       1.272   Cond. No.                         3.73\n",
      "==============================================================================\n",
      "\n",
      "Warnings:\n",
      "[1] Standard Errors assume that the covariance matrix of the errors is correctly specified.\n"
     ]
    }
   ],
   "source": [
    "# model formulation\n",
    "fml = \"solvability ~ ahacond\"\n",
    "\n",
    "model = sm.OLS.from_formula(fml, solvdf)\n",
    "result = model.fit()\n",
    "print(result.summary())"
   ]
  },
  {
   "cell_type": "code",
   "execution_count": 185,
   "metadata": {},
   "outputs": [
    {
     "name": "stdout",
     "output_type": "stream",
     "text": [
      "                               GEE Regression Results                              \n",
      "===================================================================================\n",
      "Dep. Variable:                 solvability   No. Observations:                 7740\n",
      "Model:                                 GEE   No. clusters:                      129\n",
      "Method:                        Generalized   Min. cluster size:                  60\n",
      "                      Estimating Equations   Max. cluster size:                  60\n",
      "Family:                           Binomial   Mean cluster size:                60.0\n",
      "Dependence structure:         Exchangeable   Num. iterations:                     2\n",
      "Date:                     Fri, 10 Jul 2020   Scale:                           1.000\n",
      "Covariance type:                    robust   Time:                         18:25:54\n",
      "===================================================================================\n",
      "                      coef    std err          z      P>|z|      [0.025      0.975]\n",
      "-----------------------------------------------------------------------------------\n",
      "Intercept           0.0171      0.059      0.287      0.774      -0.099       0.133\n",
      "ahacond[T.LAHA]    -0.2271      0.046     -4.977      0.000      -0.317      -0.138\n",
      "ahacond[T.NAHA]    -0.9758      0.059    -16.476      0.000      -1.092      -0.860\n",
      "==============================================================================\n",
      "Skew:                          0.3360   Kurtosis:                      -1.7282\n",
      "Centered skew:                 0.3069   Centered kurtosis:             -1.4425\n",
      "==============================================================================\n",
      "The correlation between two observations in the same cluster is 0.086\n"
     ]
    }
   ],
   "source": [
    "# model formulation\n",
    "fml = \"solvability ~ ahacond\"\n",
    "\n",
    "# covariance structure\n",
    "ex = sm.cov_struct.Exchangeable()\n",
    "fa = sm.families.Binomial(sm.families.links.logit)\n",
    "\n",
    "\n",
    "model = sm.GEE.from_formula(fml, \"subject\", solvdf, cov_struct=ex, family=fa)\n",
    "result = model.fit()\n",
    "print(result.summary())\n",
    "print(result.cov_struct.summary())"
   ]
  },
  {
   "cell_type": "code",
   "execution_count": 8,
   "metadata": {},
   "outputs": [
    {
     "data": {
      "text/plain": [
       "15480"
      ]
     },
     "execution_count": 8,
     "metadata": {},
     "output_type": "execute_result"
    }
   ],
   "source": [
    "#correct rts for trials where they responded during question\n",
    "df[df.test_part=='affect'][['rt']]= df[df.test_part=='affect'][['rt']]+500\n",
    "\n",
    "len(df)"
   ]
  },
  {
   "cell_type": "code",
   "execution_count": 9,
   "metadata": {},
   "outputs": [],
   "source": [
    "# add rt from while target was on\n",
    "df['rtproper']= np.where((df.test_part=='affect') & (df.rt.isnull()),df.rt.shift(1), df.rt)"
   ]
  },
  {
   "cell_type": "code",
   "execution_count": 10,
   "metadata": {},
   "outputs": [
    {
     "data": {
      "text/plain": [
       "58         NaN\n",
       "59      23.570\n",
       "60      99.570\n",
       "61      99.570\n",
       "62     126.270\n",
       "63     126.270\n",
       "64     126.080\n",
       "65     126.080\n",
       "66      49.765\n",
       "67      49.765\n",
       "68      65.715\n",
       "69      65.715\n",
       "70     168.545\n",
       "71     168.545\n",
       "72      88.260\n",
       "73      88.260\n",
       "74     118.075\n",
       "75     118.075\n",
       "76         NaN\n",
       "77     379.985\n",
       "78      31.115\n",
       "79      31.115\n",
       "80     205.600\n",
       "81     205.600\n",
       "82         NaN\n",
       "83    1424.425\n",
       "84         NaN\n",
       "85     493.590\n",
       "86         NaN\n",
       "87    1359.075\n",
       "Name: rtproper, dtype: float64"
      ]
     },
     "execution_count": 10,
     "metadata": {},
     "output_type": "execute_result"
    }
   ],
   "source": [
    "df[(df.test_part=='affect') & (df.rt.isnull())]\n",
    "\n",
    "df.iloc[ 50:80 , : ].rtproper"
   ]
  },
  {
   "cell_type": "code",
   "execution_count": 11,
   "metadata": {},
   "outputs": [
    {
     "data": {
      "text/plain": [
       "7740"
      ]
     },
     "execution_count": 11,
     "metadata": {},
     "output_type": "execute_result"
    }
   ],
   "source": [
    "# select affect part only\n",
    "df = df[df.test_part=='affect']\n",
    "df.rt = df.rtproper\n",
    "len(df)"
   ]
  },
  {
   "cell_type": "code",
   "execution_count": 12,
   "metadata": {},
   "outputs": [
    {
     "data": {
      "text/plain": [
       "<matplotlib.axes._subplots.AxesSubplot at 0x7ff961df6760>"
      ]
     },
     "execution_count": 12,
     "metadata": {},
     "output_type": "execute_result"
    },
    {
     "data": {
      "image/png": "[encoded data removed]",
      "text/plain": [
       "<Figure size 432x288 with 1 Axes>"
      ]
     },
     "metadata": {
      "needs_background": "light"
     },
     "output_type": "display_data"
    }
   ],
   "source": [
    "sns.distplot(df.rt[df.rt<5000])"
   ]
  },
  {
   "cell_type": "code",
   "execution_count": 99,
   "metadata": {
    "collapsed": true,
    "jupyter": {
     "outputs_hidden": true,
     "source_hidden": true
    }
   },
   "outputs": [
    {
     "data": {
      "image/png": "[encoded data removed]",
      "text/plain": [
       "<Figure size 360x360 with 1 Axes>"
      ]
     },
     "metadata": {
      "needs_background": "light"
     },
     "output_type": "display_data"
    }
   ],
   "source": [
    "ax= sns.catplot(x=\"subject\", y=\"rt\", kind=\"box\", data=df); #\n"
   ]
  },
  {
   "cell_type": "code",
   "execution_count": 13,
   "metadata": {},
   "outputs": [
    {
     "data": {
      "text/plain": [
       "1318.298116536257"
      ]
     },
     "execution_count": 13,
     "metadata": {},
     "output_type": "execute_result"
    }
   ],
   "source": [
    "df.rt.mean()"
   ]
  },
  {
   "cell_type": "code",
   "execution_count": 14,
   "metadata": {},
   "outputs": [
    {
     "data": {
      "text/html": [
       "<div>\n",
       "<style scoped>\n",
       "    .dataframe tbody tr th:only-of-type {\n",
       "        vertical-align: middle;\n",
       "    }\n",
       "\n",
       "    .dataframe tbody tr th {\n",
       "        vertical-align: top;\n",
       "    }\n",
       "\n",
       "    .dataframe thead th {\n",
       "        text-align: right;\n",
       "    }\n",
       "</style>\n",
       "<table border=\"1\" class=\"dataframe\">\n",
       "  <thead>\n",
       "    <tr style=\"text-align: right;\">\n",
       "      <th></th>\n",
       "      <th>subject</th>\n",
       "      <th>rt</th>\n",
       "    </tr>\n",
       "  </thead>\n",
       "  <tbody>\n",
       "    <tr>\n",
       "      <th>1</th>\n",
       "      <td>2</td>\n",
       "      <td>15785.284833</td>\n",
       "    </tr>\n",
       "    <tr>\n",
       "      <th>24</th>\n",
       "      <td>28</td>\n",
       "      <td>3561.675000</td>\n",
       "    </tr>\n",
       "    <tr>\n",
       "      <th>64</th>\n",
       "      <td>71</td>\n",
       "      <td>5030.441667</td>\n",
       "    </tr>\n",
       "    <tr>\n",
       "      <th>74</th>\n",
       "      <td>82</td>\n",
       "      <td>6765.490917</td>\n",
       "    </tr>\n",
       "    <tr>\n",
       "      <th>78</th>\n",
       "      <td>86</td>\n",
       "      <td>11863.983333</td>\n",
       "    </tr>\n",
       "    <tr>\n",
       "      <th>96</th>\n",
       "      <td>107</td>\n",
       "      <td>9243.864783</td>\n",
       "    </tr>\n",
       "  </tbody>\n",
       "</table>\n",
       "</div>"
      ],
      "text/plain": [
       "    subject            rt\n",
       "1         2  15785.284833\n",
       "24       28   3561.675000\n",
       "64       71   5030.441667\n",
       "74       82   6765.490917\n",
       "78       86  11863.983333\n",
       "96      107   9243.864783"
      ]
     },
     "execution_count": 14,
     "metadata": {},
     "output_type": "execute_result"
    }
   ],
   "source": [
    "m = df.groupby('subject').rt.mean().reset_index()\n",
    "\n",
    "m[m.rt>3000]"
   ]
  },
  {
   "cell_type": "code",
   "execution_count": 15,
   "metadata": {},
   "outputs": [],
   "source": [
    "df = df[~df.subject.isin([2,28,71,82,86,107])]"
   ]
  },
  {
   "cell_type": "code",
   "execution_count": 16,
   "metadata": {},
   "outputs": [
    {
     "name": "stdout",
     "output_type": "stream",
     "text": [
      "nb of participants: 123\n"
     ]
    }
   ],
   "source": [
    "print('nb of participants:', len(df['subject'].unique()))"
   ]
  },
  {
   "cell_type": "code",
   "execution_count": 17,
   "metadata": {},
   "outputs": [],
   "source": [
    "countsBefore = df.rt.count()\n",
    "\n",
    "#df = df[df.rt<(df.rt.mean()+(df.rt.std()*3))] # remove very high rts\n",
    "#df = df[df.rt>100] # remove implausibly low rts\n",
    "\n",
    "def is_outlier(s):\n",
    "    upper_limit = s.mean() + (s.std() * 3)\n",
    "    return (s > upper_limit)\n",
    "\n",
    "df = df[~df.groupby('subject')['rt'].apply(is_outlier)]\n",
    "\n",
    "countsAfter = df.rt.count()"
   ]
  },
  {
   "cell_type": "code",
   "execution_count": 18,
   "metadata": {},
   "outputs": [
    {
     "name": "stdout",
     "output_type": "stream",
     "text": [
      "7380 149 2.0189701897018972\n"
     ]
    }
   ],
   "source": [
    "countsAfter = df.rt.count()\n",
    "\n",
    "print(countsBefore, countsBefore-countsAfter, ((countsBefore-countsAfter)/countsBefore)*100)\n",
    "\n"
   ]
  },
  {
   "cell_type": "code",
   "execution_count": 19,
   "metadata": {},
   "outputs": [
    {
     "data": {
      "image/png": "[encoded data removed]",
      "text/plain": [
       "<Figure size 360x360 with 1 Axes>"
      ]
     },
     "metadata": {
      "needs_background": "light"
     },
     "output_type": "display_data"
    }
   ],
   "source": [
    "sns.catplot(x=\"ahacond\", y=\"affect\", kind=\"bar\",units=\"subject\", data=df);\n"
   ]
  },
  {
   "cell_type": "code",
   "execution_count": 179,
   "metadata": {},
   "outputs": [
    {
     "name": "stdout",
     "output_type": "stream",
     "text": [
      "                               GEE Regression Results                              \n",
      "===================================================================================\n",
      "Dep. Variable:                      affect   No. Observations:                 7231\n",
      "Model:                                 GEE   No. clusters:                      123\n",
      "Method:                        Generalized   Min. cluster size:                  57\n",
      "                      Estimating Equations   Max. cluster size:                  60\n",
      "Family:                           Binomial   Mean cluster size:                58.8\n",
      "Dependence structure:         Exchangeable   Num. iterations:                     4\n",
      "Date:                     Fri, 10 Jul 2020   Scale:                           1.000\n",
      "Covariance type:                    robust   Time:                         18:23:58\n",
      "===================================================================================\n",
      "                      coef    std err          z      P>|z|      [0.025      0.975]\n",
      "-----------------------------------------------------------------------------------\n",
      "Intercept           0.4406      0.065      6.787      0.000       0.313       0.568\n",
      "ahacond[T.LAHA]     0.0439      0.060      0.737      0.461      -0.073       0.161\n",
      "ahacond[T.NAHA]    -0.0324      0.059     -0.546      0.585      -0.149       0.084\n",
      "==============================================================================\n",
      "Skew:                         -0.4468   Kurtosis:                      -1.7994\n",
      "Centered skew:                -0.3554   Centered kurtosis:             -1.5024\n",
      "==============================================================================\n",
      "The correlation between two observations in the same cluster is 0.083\n"
     ]
    }
   ],
   "source": [
    "# model formulation\n",
    "fml = \"affect ~ ahacond\"\n",
    "\n",
    "# covariance structure\n",
    "ex = sm.cov_struct.Exchangeable()\n",
    "fa = sm.families.Binomial(sm.families.links.logit)\n",
    "\n",
    "\n",
    "model = sm.GEE.from_formula(fml, \"subject\", df, cov_struct=ex, family=fa)\n",
    "result = model.fit()\n",
    "print(result.summary())\n",
    "print(result.cov_struct.summary())"
   ]
  },
  {
   "cell_type": "code",
   "execution_count": 20,
   "metadata": {},
   "outputs": [
    {
     "data": {
      "image/png": "[encoded data removed]",
      "text/plain": [
       "<Figure size 445.65x360 with 1 Axes>"
      ]
     },
     "metadata": {
      "needs_background": "light"
     },
     "output_type": "display_data"
    }
   ],
   "source": [
    "sns.catplot(x=\"ahacond\", y=\"rt\",hue='affect', kind=\"bar\",units=\"subject\", data=df);\n"
   ]
  },
  {
   "cell_type": "code",
   "execution_count": 21,
   "metadata": {},
   "outputs": [
    {
     "name": "stdout",
     "output_type": "stream",
     "text": [
      "                            OLS Regression Results                            \n",
      "==============================================================================\n",
      "Dep. Variable:                     rt   R-squared:                       0.010\n",
      "Model:                            OLS   Adj. R-squared:                  0.010\n",
      "Method:                 Least Squares   F-statistic:                     15.11\n",
      "Date:                Thu, 16 Jul 2020   Prob (F-statistic):           8.64e-15\n",
      "Time:                        20:07:06   Log-Likelihood:                -57388.\n",
      "No. Observations:                7231   AIC:                         1.148e+05\n",
      "Df Residuals:                    7225   BIC:                         1.148e+05\n",
      "Df Model:                           5                                         \n",
      "Covariance Type:            nonrobust                                         \n",
      "====================================================================================================\n",
      "                                       coef    std err          t      P>|t|      [0.025      0.975]\n",
      "----------------------------------------------------------------------------------------------------\n",
      "Intercept                          938.3876     22.039     42.578      0.000     895.184     981.591\n",
      "ahacond[T.LAHA]                     19.2966     31.371      0.615      0.538     -42.199      80.793\n",
      "ahacond[T.NAHA]                     38.0250     31.014      1.226      0.220     -22.772      98.822\n",
      "affectcat[T.1.0]                  -105.1583     28.250     -3.722      0.000    -160.537     -49.780\n",
      "ahacond[T.LAHA]:affectcat[T.1.0]   -49.8545     40.058     -1.245      0.213    -128.379      28.670\n",
      "ahacond[T.NAHA]:affectcat[T.1.0]   -50.9333     39.886     -1.277      0.202    -129.121      27.255\n",
      "==============================================================================\n",
      "Omnibus:                     3205.405   Durbin-Watson:                   1.146\n",
      "Prob(Omnibus):                  0.000   Jarque-Bera (JB):            18410.348\n",
      "Skew:                           2.072   Prob(JB):                         0.00\n",
      "Kurtosis:                       9.628   Cond. No.                         11.0\n",
      "==============================================================================\n",
      "\n",
      "Warnings:\n",
      "[1] Standard Errors assume that the covariance matrix of the errors is correctly specified.\n"
     ]
    }
   ],
   "source": [
    "df[\"affectcat\"] = df[\"affect\"].astype('category')\n",
    "\n",
    "\n",
    "# model formulation\n",
    "fml = \"rt ~ ahacond*affectcat\"\n",
    "\n",
    "model = sm.OLS.from_formula(fml, df)\n",
    "result = model.fit()\n",
    "print(result.summary())"
   ]
  },
  {
   "cell_type": "code",
   "execution_count": 22,
   "metadata": {},
   "outputs": [
    {
     "name": "stdout",
     "output_type": "stream",
     "text": [
      "                               GEE Regression Results                              \n",
      "===================================================================================\n",
      "Dep. Variable:                          rt   No. Observations:                 7231\n",
      "Model:                                 GEE   No. clusters:                      123\n",
      "Method:                        Generalized   Min. cluster size:                  57\n",
      "                      Estimating Equations   Max. cluster size:                  60\n",
      "Family:                           Gaussian   Mean cluster size:                58.8\n",
      "Dependence structure:         Exchangeable   Num. iterations:                     6\n",
      "Date:                     Thu, 16 Jul 2020   Scale:                      459487.128\n",
      "Covariance type:                    robust   Time:                         20:07:27\n",
      "====================================================================================================\n",
      "                                       coef    std err          z      P>|z|      [0.025      0.975]\n",
      "----------------------------------------------------------------------------------------------------\n",
      "Intercept                          908.9795     36.645     24.805      0.000     837.156     980.803\n",
      "ahacond[T.LAHA]                     -9.1434     24.273     -0.377      0.706     -56.718      38.431\n",
      "ahacond[T.NAHA]                     41.5376     23.101      1.798      0.072      -3.739      86.814\n",
      "affectcat[T.1.0]                   -58.5159     21.800     -2.684      0.007    -101.244     -15.788\n",
      "ahacond[T.LAHA]:affectcat[T.1.0]    -5.8204     33.112     -0.176      0.860     -70.720      59.079\n",
      "ahacond[T.NAHA]:affectcat[T.1.0]   -55.8762     31.904     -1.751      0.080    -118.406       6.654\n",
      "==============================================================================\n",
      "Skew:                          2.0692   Kurtosis:                       6.5946\n",
      "Centered skew:                 1.8052   Centered kurtosis:              6.9542\n",
      "==============================================================================\n",
      "The correlation between two observations in the same cluster is 0.314\n"
     ]
    }
   ],
   "source": [
    "# model formulation\n",
    "fml = \"rt ~ ahacond*affectcat\"\n",
    "\n",
    "# covariance structure\n",
    "ex = sm.cov_struct.Exchangeable()\n",
    "\n",
    "\n",
    "model = sm.GEE.from_formula(fml, \"subject\", df, cov_struct=ex)\n",
    "result = model.fit()\n",
    "print(result.summary())\n",
    "print(result.cov_struct.summary())"
   ]
  },
  {
   "cell_type": "code",
   "execution_count": 23,
   "metadata": {},
   "outputs": [],
   "source": [
    "s = solvdf[['solvability', 'currentStim', 'subject']]"
   ]
  },
  {
   "cell_type": "code",
   "execution_count": 24,
   "metadata": {},
   "outputs": [],
   "source": [
    "df = df.merge(s, how='left', on=['subject', 'currentStim'])"
   ]
  },
  {
   "cell_type": "code",
   "execution_count": 25,
   "metadata": {},
   "outputs": [],
   "source": [
    "df['solvability'] = df.solvability_y\n",
    "df = df.drop(columns=['solvability_x', 'solvability_y'])"
   ]
  },
  {
   "cell_type": "code",
   "execution_count": 26,
   "metadata": {},
   "outputs": [
    {
     "data": {
      "image/png": "[encoded data removed]",
      "text/plain": [
       "<Figure size 464.95x360 with 1 Axes>"
      ]
     },
     "metadata": {
      "needs_background": "light"
     },
     "output_type": "display_data"
    }
   ],
   "source": [
    "sns.catplot(x=\"ahacond\", y=\"affect\",hue='solvability', kind=\"bar\",units=\"subject\", data=df, order=['NAHA', 'LAHA', 'HAHA']);\n"
   ]
  },
  {
   "cell_type": "code",
   "execution_count": 31,
   "metadata": {},
   "outputs": [
    {
     "name": "stdout",
     "output_type": "stream",
     "text": [
      "                               GEE Regression Results                              \n",
      "===================================================================================\n",
      "Dep. Variable:                      affect   No. Observations:                 7231\n",
      "Model:                                 GEE   No. clusters:                      123\n",
      "Method:                        Generalized   Min. cluster size:                  57\n",
      "                      Estimating Equations   Max. cluster size:                  60\n",
      "Family:                           Binomial   Mean cluster size:                58.8\n",
      "Dependence structure:         Exchangeable   Num. iterations:                     5\n",
      "Date:                     Thu, 16 Jul 2020   Scale:                           1.000\n",
      "Covariance type:                    robust   Time:                         20:10:43\n",
      "===============================================================================================\n",
      "                                  coef    std err          z      P>|z|      [0.025      0.975]\n",
      "-----------------------------------------------------------------------------------------------\n",
      "Intercept                       0.2841      0.074      3.833      0.000       0.139       0.429\n",
      "ahacond[T.LAHA]                 0.0963      0.077      1.259      0.208      -0.054       0.246\n",
      "ahacond[T.NAHA]                 0.1293      0.077      1.675      0.094      -0.022       0.281\n",
      "solvability                     0.3166      0.093      3.400      0.001       0.134       0.499\n",
      "ahacond[T.LAHA]:solvability    -0.0823      0.124     -0.664      0.506      -0.325       0.160\n",
      "ahacond[T.NAHA]:solvability    -0.3358      0.127     -2.640      0.008      -0.585      -0.087\n",
      "==============================================================================\n",
      "Skew:                         -0.4446   Kurtosis:                      -1.7886\n",
      "Centered skew:                -0.3514   Centered kurtosis:             -1.4938\n",
      "==============================================================================\n",
      "The correlation between two observations in the same cluster is 0.082\n"
     ]
    }
   ],
   "source": [
    "# model formulation\n",
    "fml = \"affect ~ ahacond*solvability\"\n",
    "\n",
    "# covariance structure\n",
    "ex = sm.cov_struct.Exchangeable()\n",
    "fa = sm.families.Binomial(sm.families.links.logit)\n",
    "\n",
    "\n",
    "model = sm.GEE.from_formula(fml, \"subject\", df, cov_struct=ex, family=fa)\n",
    "result = model.fit()\n",
    "print(result.summary())\n",
    "print(result.cov_struct.summary())"
   ]
  },
  {
   "cell_type": "code",
   "execution_count": 28,
   "metadata": {},
   "outputs": [
    {
     "data": {
      "image/png": "[encoded data removed]",
      "text/plain": [
       "<Figure size 1165.65x360 with 3 Axes>"
      ]
     },
     "metadata": {
      "needs_background": "light"
     },
     "output_type": "display_data"
    }
   ],
   "source": [
    "sns.catplot(x=\"solvability\", y=\"rt\",hue='affect', col='ahacond', kind=\"bar\",units=\"subject\", data=df);\n"
   ]
  },
  {
   "cell_type": "code",
   "execution_count": 29,
   "metadata": {},
   "outputs": [
    {
     "name": "stdout",
     "output_type": "stream",
     "text": [
      "                               GEE Regression Results                              \n",
      "===================================================================================\n",
      "Dep. Variable:                          rt   No. Observations:                 7231\n",
      "Model:                                 GEE   No. clusters:                      123\n",
      "Method:                        Generalized   Min. cluster size:                  57\n",
      "                      Estimating Equations   Max. cluster size:                  60\n",
      "Family:                           Gaussian   Mean cluster size:                58.8\n",
      "Dependence structure:         Exchangeable   Num. iterations:                     6\n",
      "Date:                     Thu, 16 Jul 2020   Scale:                      459989.331\n",
      "Covariance type:                    robust   Time:                         20:09:19\n",
      "================================================================================================================\n",
      "                                                   coef    std err          z      P>|z|      [0.025      0.975]\n",
      "----------------------------------------------------------------------------------------------------------------\n",
      "Intercept                                      905.5396     41.392     21.877      0.000     824.412     986.667\n",
      "ahacond[T.LAHA]                                  8.1190     30.239      0.268      0.788     -51.149      67.387\n",
      "ahacond[T.NAHA]                                 36.2897     29.538      1.229      0.219     -21.604      94.183\n",
      "affectcat[T.1.0]                               -42.9855     30.708     -1.400      0.162    -103.172      17.201\n",
      "ahacond[T.LAHA]:affectcat[T.1.0]               -50.6027     41.633     -1.215      0.224    -132.202      30.996\n",
      "ahacond[T.NAHA]:affectcat[T.1.0]               -61.7448     38.002     -1.625      0.104    -136.227      12.737\n",
      "solvability                                      7.5917     37.002      0.205      0.837     -64.931      80.114\n",
      "ahacond[T.LAHA]:solvability                    -41.1999     43.094     -0.956      0.339    -125.663      43.263\n",
      "ahacond[T.NAHA]:solvability                     25.4794     61.384      0.415      0.678     -94.831     145.790\n",
      "affectcat[T.1.0]:solvability                   -29.9704     44.308     -0.676      0.499    -116.812      56.871\n",
      "ahacond[T.LAHA]:affectcat[T.1.0]:solvability    96.1751     59.420      1.619      0.106     -20.286     212.636\n",
      "ahacond[T.NAHA]:affectcat[T.1.0]:solvability    -6.7399     75.627     -0.089      0.929    -154.966     141.486\n",
      "==============================================================================\n",
      "Skew:                          2.0677   Kurtosis:                       6.5916\n",
      "Centered skew:                 1.8037   Centered kurtosis:              6.9472\n",
      "==============================================================================\n",
      "The correlation between two observations in the same cluster is 0.315\n"
     ]
    }
   ],
   "source": [
    "# model formulation\n",
    "fml = \"rt ~ ahacond*affectcat*solvability\"\n",
    "\n",
    "# covariance structure\n",
    "ex = sm.cov_struct.Exchangeable()\n",
    "\n",
    "\n",
    "model = sm.GEE.from_formula(fml, \"subject\", df, cov_struct=ex)\n",
    "result = model.fit()\n",
    "print(result.summary())\n",
    "print(result.cov_struct.summary())"
   ]
  },
  {
   "cell_type": "code",
   "execution_count": 30,
   "metadata": {},
   "outputs": [
    {
     "name": "stdout",
     "output_type": "stream",
     "text": [
      "                            OLS Regression Results                            \n",
      "==============================================================================\n",
      "Dep. Variable:                     rt   R-squared:                       0.011\n",
      "Model:                            OLS   Adj. R-squared:                  0.009\n",
      "Method:                 Least Squares   F-statistic:                     7.016\n",
      "Date:                Thu, 16 Jul 2020   Prob (F-statistic):           6.08e-12\n",
      "Time:                        20:09:47   Log-Likelihood:                -57387.\n",
      "No. Observations:                7231   AIC:                         1.148e+05\n",
      "Df Residuals:                    7219   BIC:                         1.149e+05\n",
      "Df Model:                          11                                         \n",
      "Covariance Type:            nonrobust                                         \n",
      "================================================================================================================\n",
      "                                                   coef    std err          t      P>|t|      [0.025      0.975]\n",
      "----------------------------------------------------------------------------------------------------------------\n",
      "Intercept                                      956.0513     29.704     32.186      0.000     897.823    1014.279\n",
      "ahacond[T.LAHA]                                 -1.9954     41.635     -0.048      0.962     -83.613      79.622\n",
      "ahacond[T.NAHA]                                 19.4340     39.119      0.497      0.619     -57.252      96.119\n",
      "affectcat[T.1.0]                              -128.3280     39.510     -3.248      0.001    -205.778     -50.878\n",
      "ahacond[T.LAHA]:affectcat[T.1.0]               -33.6408     54.769     -0.614      0.539    -141.004      73.723\n",
      "ahacond[T.NAHA]:affectcat[T.1.0]               -20.0773     51.451     -0.390      0.696    -120.937      80.782\n",
      "solvability                                    -39.3268     44.321     -0.887      0.375    -126.210      47.556\n",
      "ahacond[T.LAHA]:solvability                     48.0880     63.402      0.758      0.448     -76.198     172.374\n",
      "ahacond[T.NAHA]:solvability                     42.8286     66.420      0.645      0.519     -87.374     173.031\n",
      "affectcat[T.1.0]:solvability                    49.5322     56.766      0.873      0.383     -61.746     160.810\n",
      "ahacond[T.LAHA]:affectcat[T.1.0]:solvability   -36.0170     80.710     -0.446      0.655    -194.233     122.199\n",
      "ahacond[T.NAHA]:affectcat[T.1.0]:solvability   -77.4410     85.158     -0.909      0.363    -244.376      89.494\n",
      "==============================================================================\n",
      "Omnibus:                     3201.893   Durbin-Watson:                   1.147\n",
      "Prob(Omnibus):                  0.000   Jarque-Bera (JB):            18348.890\n",
      "Skew:                           2.070   Prob(JB):                         0.00\n",
      "Kurtosis:                       9.615   Cond. No.                         27.5\n",
      "==============================================================================\n",
      "\n",
      "Warnings:\n",
      "[1] Standard Errors assume that the covariance matrix of the errors is correctly specified.\n"
     ]
    }
   ],
   "source": [
    "df[\"affectcat\"] = df[\"affect\"].astype('category')\n",
    "\n",
    "\n",
    "# model formulation\n",
    "fml = \"rt ~ ahacond*affectcat*solvability\"\n",
    "\n",
    "model = sm.OLS.from_formula(fml, df)\n",
    "result = model.fit()\n",
    "print(result.summary())"
   ]
  }
 ],
 "metadata": {
  "kernelspec": {
   "display_name": "Python 3",
   "language": "python",
   "name": "python3"
  },
  "language_info": {
   "codemirror_mode": {
    "name": "ipython",
    "version": 3
   },
   "file_extension": ".py",
   "mimetype": "text/x-python",
   "name": "python",
   "nbconvert_exporter": "python",
   "pygments_lexer": "ipython3",
   "version": "3.8.2"
  }
 },
 "nbformat": 4,
 "nbformat_minor": 4
}
