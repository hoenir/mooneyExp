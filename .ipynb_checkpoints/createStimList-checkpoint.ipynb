{
 "cells": [
  {
   "cell_type": "code",
   "execution_count": 8,
   "metadata": {},
   "outputs": [],
   "source": [
    "import os, glob, json, random"
   ]
  },
  {
   "cell_type": "code",
   "execution_count": 10,
   "metadata": {},
   "outputs": [],
   "source": [
    "# rename files to be consistent\n",
    "tt = glob.glob(os.path.join('img', 'tt', \"*.jpg\")) \n",
    "gs = glob.glob(os.path.join('img', 'gs', \"*.jpg\")) \n",
    "\n",
    "if len(tt) == len(gs): \n",
    "    couples = zip(sorted(tt),sorted(gs))\n",
    "else: print \"images don't match!\"\n",
    "\n",
    "random.shuffle(couples)\n",
    "\n",
    "for i, couple in enumerate(couples):\n",
    "    if (int(''.join(filter(str.isdigit, couple[0]))) == int(''.join(filter(str.isdigit, couple[1])))):\n",
    "        os.rename(couple[0], 'img/tt' + \"/{0:0=3d}\".format(i+1) + 'tt' + \".jpg\")\n",
    "        os.rename(couple[1], 'img/gs' + \"/{0:0=3d}\".format(i+1) + 'gs' + \".jpg\")\n",
    "    else: print(couple, \"images don't match\")"
   ]
  },
  {
   "cell_type": "code",
   "execution_count": 11,
   "metadata": {},
   "outputs": [
    {
     "name": "stdout",
     "output_type": "stream",
     "text": [
      "603\n"
     ]
    }
   ],
   "source": [
    "#generate json list of filenames\n",
    "tt = glob.glob(os.path.join('img', 'tt', \"*.jpg\")) \n",
    "gs = glob.glob(os.path.join('img', 'gs', \"*.jpg\")) \n",
    "STIMS = []\n",
    "if len(tt) == len(gs): \n",
    "    \n",
    "    couples = zip(sorted(tt),sorted(gs))\n",
    "    \n",
    "    print len(couples)\n",
    "    for couple in couples:\n",
    "        if (int(''.join(filter(str.isdigit, couple[0]))) == int(''.join(filter(str.isdigit, couple[1])))):\n",
    "            STIMS.append({'mooney': couple[0], 'solution': couple[1]})\n",
    "        else: print couple, \": images don't correspond\"\n",
    "        \n",
    "    with open('stimset.json', 'w') as outfile:\n",
    "        json.dump(STIMS, outfile)\n",
    "        \n",
    "else: print \"images don't match!\"\n",
    "    "
   ]
  },
  {
   "cell_type": "code",
   "execution_count": 12,
   "metadata": {},
   "outputs": [],
   "source": [
    "import pandas as pd\n",
    "\n",
    "df = pd.DataFrame(STIMS)\n",
    "df.to_csv('stimsAnswerKey.csv')"
   ]
  }
 ],
 "metadata": {
  "kernelspec": {
   "display_name": "Python 2",
   "language": "python",
   "name": "python2"
  },
  "language_info": {
   "codemirror_mode": {
    "name": "ipython",
    "version": 3
   },
   "file_extension": ".py",
   "mimetype": "text/x-python",
   "name": "python",
   "nbconvert_exporter": "python",
   "pygments_lexer": "ipython3",
   "version": "3.7.3"
  }
 },
 "nbformat": 4,
 "nbformat_minor": 4
}
